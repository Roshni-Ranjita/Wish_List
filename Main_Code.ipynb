{
 "cells": [
  {
   "cell_type": "code",
   "execution_count": 149,
   "id": "c6f48d82",
   "metadata": {},
   "outputs": [],
   "source": [
    "# Importing Libraries\n",
    "import pandas as pd\n",
    "import numpy as np\n",
    "import requests\n",
    "from bs4 import BeautifulSoup as bs\n",
    "from datetime import date"
   ]
  },
  {
   "cell_type": "code",
   "execution_count": 150,
   "id": "958f9f43",
   "metadata": {},
   "outputs": [],
   "source": [
    "# Urls of Flipkart to track\n",
    "urls= [\n",
    "    'https://www.flipkart.com/limraz-furniture-l-56-engineered-wood-study-table/p/itm73b71d8d7e112?pid=OSTFSDETE33UVMTT&lid=LSTOSTFSDETE33UVMTTEKC184&marketplace=FLIPKART&q=table&store=wwe%2Fki7&spotlightTagId=BestsellerId_wwe%2Fki7&srno=s_1_3&otracker=search&otracker1=search&fm=Search&iid=099c942d-63aa-4ebe-84ed-f9cbc423b9b7.OSTFSDETE33UVMTT.SEARCH&ppt=sp&ppn=sp&ssid=7692gv18xc0000001678372755768&qH=aab9e1de16f38176',\n",
    "    'https://www.flipkart.com/wonderchef-nutri-blend-22000-rpm-mixer-grinder-blender-ss-blades-2-unbreakable-jars-years-warranty-nutri-blend-400-w-juicer-mixer-grinder-2-black/p/itm06dbf1cf12690?pid=MIXE5VSEC4BGAXDD&lid=LSTMIXE5VSEC4BGAXDDQS2MYA&marketplace=FLIPKART&q=mixer+&store=j9e%2Fm38%2F7ek&srno=s_1_9&otracker=search&otracker1=search&fm=search-autosuggest&iid=2f728fb6-f2c9-4607-970d-89e0f1df5a78.MIXE5VSEC4BGAXDD.SEARCH&ppt=sp&ppn=sp&ssid=p31z8p75ls0000001678374338182&qH=b02e0b0f20ddb907',\n",
    "    'https://www.flipkart.com/godrej-interio-genesys-premium-engineered-wood-dressing-table/p/itmf56770d81b93d?pid=DTBFZDUZKD7BXXEW&lid=LSTDTBFZDUZKD7BXXEWCLGNE7&marketplace=FLIPKART&q=dressing+table&store=wwe%2Fki7%2Fvh2&srno=s_1_12&otracker=search&otracker1=search&fm=Search&iid=en_3cJtVyPhBcQOMdP1oSc7Yd%2FkjXP3GkxsYEEnACKlBNNs8i7fUU2CLzQhStZzDFZt%2Ba4bk0ppNpfUklQxdhLJUQ%3D%3D&ppt=sp&ppn=sp&ssid=3s59n1zklc0000001678374482974&qH=31e91da38f759be6',\n",
    "    'https://www.flipkart.com/fitbit-charge-5-blue-smartwatch/p/itm08ec380b9796a?pid=SMWGBE3RPTYKAYRV&lid=LSTSMWGBE3RPTYKAYRVWL7BF4&marketplace=FLIPKART&q=fit+bit+charge+5&store=search.flipkart.com&srno=s_1_2&otracker=search&otracker1=search&fm=Search&iid=f2b377f2-ee6f-4aab-88c7-5a2806ad28cc.SMWGBE3RPTYKAYRV.SEARCH&ppt=sp&ppn=sp&ssid=k33b1d6iow0000001678374593161&qH=1cd40fc69d9d0b17'\n",
    "]"
   ]
  },
  {
   "cell_type": "code",
   "execution_count": 151,
   "id": "d398186b",
   "metadata": {},
   "outputs": [],
   "source": [
    "# Function to Extract data from given URL\n",
    "def extraction(url):\n",
    "    res = requests.get(url)\n",
    "    soup = bs(res.content)\n",
    "    item = soup.find(class_='B_NuCI').text\n",
    "    price = soup.find(class_='_30jeq3 _16Jk6d').text\n",
    "    return item, price"
   ]
  },
  {
   "cell_type": "code",
   "execution_count": 152,
   "id": "64c5de1e",
   "metadata": {},
   "outputs": [],
   "source": [
    "# Extracting the data\n",
    "column= ['Item', 'Price', 'Updated_Date']\n",
    "today = date.today().strftime(\"%Y-%m-%d\")\n",
    "df = pd.DataFrame(columns= column)\n",
    "for url in urls:\n",
    "    item, price = extraction(url)\n",
    "    df2 = pd.DataFrame([[item, price, today]], columns=['Item', 'Price', 'Updated_Date'])\n",
    "    df= pd.concat([df, df2])"
   ]
  },
  {
   "cell_type": "code",
   "execution_count": 153,
   "id": "b24aca8c",
   "metadata": {},
   "outputs": [],
   "source": [
    "# Storing the Extracted Data\n",
    "prev_df= pd.read_csv('data/Flipkart_Wish_list_Tracker.csv')\n",
    "if(prev_df['Updated_Date'].max()== today):\n",
    "    prev_df= prev_df[prev_df['Updated_Date']!=today]\n",
    "df= pd.concat([df, prev_df])\n",
    "df=df[['Item', 'Price', 'Updated_Date']]\n",
    "df.to_csv('data/Flipkart_Wish_list_Tracker.csv')\n",
    "#else:\n",
    "#    df= pd.concat([df, prev_df])\n",
    "#    df.to_csv('data/Flipkart_Wish_list_Tracker.csv')\n",
    "#    print('Option 2')"
   ]
  },
  {
   "cell_type": "code",
   "execution_count": 154,
   "id": "ee2e76aa",
   "metadata": {},
   "outputs": [
    {
     "data": {
      "text/html": [
       "<div>\n",
       "<style scoped>\n",
       "    .dataframe tbody tr th:only-of-type {\n",
       "        vertical-align: middle;\n",
       "    }\n",
       "\n",
       "    .dataframe tbody tr th {\n",
       "        vertical-align: top;\n",
       "    }\n",
       "\n",
       "    .dataframe thead th {\n",
       "        text-align: right;\n",
       "    }\n",
       "</style>\n",
       "<table border=\"1\" class=\"dataframe\">\n",
       "  <thead>\n",
       "    <tr style=\"text-align: right;\">\n",
       "      <th></th>\n",
       "      <th>Item</th>\n",
       "      <th>Price</th>\n",
       "      <th>Updated_Date</th>\n",
       "    </tr>\n",
       "  </thead>\n",
       "  <tbody>\n",
       "    <tr>\n",
       "      <th>0</th>\n",
       "      <td>limraz furniture L 56 Engineered Wood Study Ta...</td>\n",
       "      <td>₹1,298</td>\n",
       "      <td>2023-03-11</td>\n",
       "    </tr>\n",
       "    <tr>\n",
       "      <th>0</th>\n",
       "      <td>WONDERCHEF Nutri-Blend, 22000 RPM Mixer-Grinde...</td>\n",
       "      <td>₹2,699</td>\n",
       "      <td>2023-03-11</td>\n",
       "    </tr>\n",
       "    <tr>\n",
       "      <th>0</th>\n",
       "      <td>Godrej Interio Genesys Premium Engineered Wood...</td>\n",
       "      <td>₹9,287</td>\n",
       "      <td>2023-03-11</td>\n",
       "    </tr>\n",
       "    <tr>\n",
       "      <th>0</th>\n",
       "      <td>FITBIT fitbit charge 5 blue Smartwatch  (Blue ...</td>\n",
       "      <td>₹14,998</td>\n",
       "      <td>2023-03-11</td>\n",
       "    </tr>\n",
       "    <tr>\n",
       "      <th>4</th>\n",
       "      <td>limraz furniture L 56 Engineered Wood Study Ta...</td>\n",
       "      <td>₹1,298</td>\n",
       "      <td>2023-03-09</td>\n",
       "    </tr>\n",
       "    <tr>\n",
       "      <th>5</th>\n",
       "      <td>WONDERCHEF Nutri-Blend, 22000 RPM Mixer-Grinde...</td>\n",
       "      <td>₹2,799</td>\n",
       "      <td>2023-03-09</td>\n",
       "    </tr>\n",
       "    <tr>\n",
       "      <th>6</th>\n",
       "      <td>Godrej Interio Genesys Premium Engineered Wood...</td>\n",
       "      <td>₹9,287</td>\n",
       "      <td>2023-03-09</td>\n",
       "    </tr>\n",
       "    <tr>\n",
       "      <th>7</th>\n",
       "      <td>FITBIT fitbit charge 5 blue Smartwatch  (Blue ...</td>\n",
       "      <td>₹14,999</td>\n",
       "      <td>2023-03-09</td>\n",
       "    </tr>\n",
       "  </tbody>\n",
       "</table>\n",
       "</div>"
      ],
      "text/plain": [
       "                                                Item    Price Updated_Date\n",
       "0  limraz furniture L 56 Engineered Wood Study Ta...   ₹1,298   2023-03-11\n",
       "0  WONDERCHEF Nutri-Blend, 22000 RPM Mixer-Grinde...   ₹2,699   2023-03-11\n",
       "0  Godrej Interio Genesys Premium Engineered Wood...   ₹9,287   2023-03-11\n",
       "0  FITBIT fitbit charge 5 blue Smartwatch  (Blue ...  ₹14,998   2023-03-11\n",
       "4  limraz furniture L 56 Engineered Wood Study Ta...   ₹1,298   2023-03-09\n",
       "5  WONDERCHEF Nutri-Blend, 22000 RPM Mixer-Grinde...   ₹2,799   2023-03-09\n",
       "6  Godrej Interio Genesys Premium Engineered Wood...   ₹9,287   2023-03-09\n",
       "7  FITBIT fitbit charge 5 blue Smartwatch  (Blue ...  ₹14,999   2023-03-09"
      ]
     },
     "execution_count": 154,
     "metadata": {},
     "output_type": "execute_result"
    }
   ],
   "source": [
    "df"
   ]
  },
  {
   "cell_type": "code",
   "execution_count": null,
   "id": "b8892999",
   "metadata": {},
   "outputs": [],
   "source": []
  }
 ],
 "metadata": {
  "kernelspec": {
   "display_name": "Python 3 (ipykernel)",
   "language": "python",
   "name": "python3"
  },
  "language_info": {
   "codemirror_mode": {
    "name": "ipython",
    "version": 3
   },
   "file_extension": ".py",
   "mimetype": "text/x-python",
   "name": "python",
   "nbconvert_exporter": "python",
   "pygments_lexer": "ipython3",
   "version": "3.9.7"
  }
 },
 "nbformat": 4,
 "nbformat_minor": 5
}
